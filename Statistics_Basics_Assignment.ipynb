{
  "nbformat": 4,
  "nbformat_minor": 0,
  "metadata": {
    "colab": {
      "provenance": []
    },
    "kernelspec": {
      "name": "python3",
      "display_name": "Python 3"
    },
    "language_info": {
      "name": "python"
    }
  },
  "cells": [
    {
      "cell_type": "markdown",
      "source": [
        "#  **Statistics Basics Questions**\n",
        "\n",
        "Q1. **What is statistics, and why is it important?**\n",
        "  - Statistics is the science of collecting, organizing, analyzing, and interpreting data to make informed decisions. It helps us uncover patterns, trends, and relationships in various fields, from healthcare and business to social sciences and engineering.\n",
        "\n",
        " # Statistics importance:-\n",
        "\n",
        "   -  **Informed Decision-Making:-** Governments, businesses, and individuals use statistical data to make smarter choices.\n",
        "\n",
        "   - **Predicting Trends:-** From weather forecasting to stock market analysis, statistics helps predict future events.\n",
        "\n",
        "   - **Problem-Solving:-** It allows us to test hypotheses, analyze risks, and find solutions backed by real data.\n",
        "\n",
        "   - **Understanding the World:-** From public health to sports analytics, statistics gives insight into human behavior, economics, and nature.\n",
        "\n",
        "\n",
        "Q2.  **What are the two main types of statistics?**\n",
        "  - # Statistics is divided into two main types:-\n",
        "\n",
        "   - **Descriptive Statistics:-** This type summarizes and presents data in a meaningful way. It includes measures like mean, median, mode, standard deviation, and graphical representations such as histograms and pie charts. Descriptive statistics help us understand patterns and trends within a dataset.\n",
        "\n",
        "   - **Inferential Statistics:-** This type goes beyond the data at hand to make predictions or generalizations about a larger population. It involves techniques such as hypothesis testing, confidence intervals, and regression analysis. Inferential statistics use samples to draw conclusions about broader groups."
      ],
      "metadata": {
        "id": "lzCwsVk9K3ey"
      }
    },
    {
      "cell_type": "markdown",
      "source": [
        "Q3. **What are descriptive statistics?**\n",
        "  - Descriptive statistics are used to summarize and organize data in a meaningful way. Instead of drawing conclusions or making predictions, descriptive statistics help us understand and present data effectively.\n",
        " # There are three main types of descriptive statistics:-\n",
        "\n",
        "  - **Measures of Central Tendency:-** These describe the center of a dataset.\n",
        "\n",
        "   - Mean (average): Sum of all values divided by the total number.\n",
        "\n",
        "   - Median: The middle value when data is arranged in order.\n",
        "\n",
        "   - Mode: The most frequently occurring value.\n",
        "\n",
        "  - **Measures of Dispersion:-**These show how spread out the data is.\n",
        "\n",
        "   - Range: Difference between the highest and lowest values.\n",
        "\n",
        "   - Variance: Measures how much data points vary from the mean.\n",
        "\n",
        "   - Standard Deviation: Indicates how spread out the data is in relation to the mean.\n",
        "\n",
        "  - **Data Visualization:-** Graphs and charts provide an easy way to see patterns.\n",
        "\n",
        "   - Histograms, bar charts, and pie charts represent data visually.\n",
        "\n",
        "   - Box plots help show distribution and outliers.\n",
        "\n",
        "Q4. **What is inferential statistics?**\n",
        "  - Inferential statistics is used to draw conclusions and make predictions about a larger population based on a sample of data. Unlike descriptive statistics, which simply summarize information, inferential statistics help us analyze relationships, test hypotheses, and make informed decisions.\n",
        "\n",
        " # Key concepts in inferential statistics:-\n",
        "\n",
        "   - **Sampling:-** Since it's impractical to study an entire population, we analyze a smaller sample to make broader generalizations.\n",
        "\n",
        "   - **Probability Theory:-** Helps assess the likelihood of an event occurring.\n",
        "\n",
        "   - **Hypothesis Testing:-** Determines whether there is enough evidence to support a claim or theory.\n",
        "\n",
        "   - **Confidence Intervals:-** Estimates the range in which a population parameter likely falls.\n",
        "\n",
        "   - **Regression Analysis:-** Identifies relationships between variables to make predictions.\n",
        "\n",
        "Q5.  **What is sampling in statistics?**\n",
        "  - Sampling in statistics is the process of selecting a subset of individuals or observations from a larger population to analyze and make generalizations about the whole group. Since studying an entire population can be costly or impractical, sampling allows researchers to collect manageable, representative data efficiently.\n",
        "\n",
        " # Types of Sampling:-\n",
        "   - **Probability Sampling:-** Every individual in the population has a known chance of being selected.\n",
        "\n",
        "   - **Simple Random Sampling:-** Every member has an equal chance.\n",
        "\n",
        "   - **Systematic Sampling:-** Selection follows a fixed interval (e.g., every 10th person).\n",
        "\n",
        "   - **Stratified Sampling:-** Population is divided into subgroups, and samples are taken from each.\n",
        "\n",
        "   - **Cluster Sampling:-** Groups (clusters) are randomly selected instead of individuals.\n",
        "\n",
        "   - **Non-Probability Sampling:-** Selection is based on convenience or researcher judgment, making it less generalizable.\n",
        "\n",
        "   - **Convenience Sampling:-** Uses readily available participants.\n",
        "\n",
        "   - **Judgmental Sampling:-** Experts select individuals based on specific criteria.\n",
        "\n",
        "   - **Snowball Sampling:-** Existing participants help recruit more members, useful for hard-to-reach populations."
      ],
      "metadata": {
        "id": "42ASdNPMNWJS"
      }
    },
    {
      "cell_type": "markdown",
      "source": [
        "Q6. **What are the different types of sampling methods?**\n",
        "  - Sampling methods are divided into two broad categories:- **Probability** Sampling and **Non-Probability** Sampling. Each has distinct techniques, depending on the research goals and the nature of the population being studied.\n",
        "\n",
        "  - **Probability Sampling (Every member has a known chance of selection)**\n",
        "   - Simple Random Sampling – Every individual has an equal chance of being chosen, ensuring a completely random selection.\n",
        "\n",
        "   - Systematic Sampling – Individuals are selected at regular intervals (e.g., every 5th person in a list).\n",
        "\n",
        "   - Stratified Sampling – The population is divided into groups (strata), and samples are drawn from each subgroup to ensure diversity.\n",
        "\n",
        "   - Cluster Sampling – Instead of selecting individuals, entire groups (clusters) are chosen randomly, useful for large populations.\n",
        "\n",
        "  - **Non-Probability Sampling (Selection is based on convenience or judgment)**\n",
        "   - Convenience Sampling – Data is collected from readily available subjects, making it quick but less reliable.\n",
        "\n",
        "   - Judgmental (Purposive) Sampling – Experts choose participants based on specific characteristics relevant to the study.\n",
        "\n",
        "   - Snowball Sampling – Existing participants recruit more people, often used for studying rare populations.\n",
        "\n",
        "   - Quota Sampling – Researchers select a specific number of participants from different categories to match population proportions"
      ],
      "metadata": {
        "id": "HkQ6ioLKVzLs"
      }
    },
    {
      "cell_type": "markdown",
      "source": [
        "Q7. **What is the difference between random and non-random sampling?**\n",
        "  - The key difference between **random sampling** and **non-random sampling** lies in how individuals or groups are selected from a population.\n",
        "\n",
        "  - **Random Sampling (Probability Sampling)**\n",
        "   - Every individual has an equal chance of being chosen.\n",
        "\n",
        "   - Selection is unbiased and done randomly.\n",
        "\n",
        "   - It allows for generalization to a larger population.\n",
        "\n",
        "  - **Examples:-**\n",
        "\n",
        "   - **Simple Random Sampling:-** Every member has the same probability of selection.\n",
        "\n",
        "   - **Systematic Sampling:-** Every nth person is selected.\n",
        "\n",
        "   - **Stratified Sampling:-** Population is divided into subgroups, and individuals are chosen randomly from each.\n",
        "\n",
        "  - **Non-Random Sampling (Non-Probability Sampling)**\n",
        "   - Selection is not random and often based on convenience, judgment, or specific criteria.\n",
        "\n",
        "   - Introduces potential bias, meaning the sample may not represent the entire population.\n",
        "\n",
        "   - Often used when randomness is impractical or unnecessary.\n",
        "\n",
        "  - **Examples:-**\n",
        "\n",
        "   - **Convenience Sampling:-** Choosing individuals who are easy to reach.\n",
        "\n",
        "   - **Judgmental Sampling:-** Expert-driven selection based on specific criteria.\n",
        "\n",
        "   - **Snowball Sampling:-** Participants recruit others, useful for studying rare groups.\n",
        "\n",
        "   Random sampling is ideal for large-scale, statistically valid research, while non-random sampling is useful in exploratory studies or specialized research."
      ],
      "metadata": {
        "id": "LalV9Dv-XSes"
      }
    },
    {
      "cell_type": "markdown",
      "source": [
        "Q8.**Define and give examples of qualitative and quantitative data**.\n",
        "  - **Qualitative** and **quantitative data** are two fundamental types of data used in research, analytics, and decision-making.\n",
        "\n",
        "  -**Qualitative Data:-**\n",
        "   - Definition: Descriptive data that captures characteristics, qualities, or attributes that cannot be measured numerically.\n",
        "\n",
        "  - **Examples:-**\n",
        "\n",
        "   - **Colors** of cars in a showroom (red, blue, black).\n",
        "\n",
        "   - **Customer reviews** describing a product (“excellent,” “poor”).\n",
        "\n",
        "   - **Types of music** people enjoy (rock, jazz, classical).\n",
        "\n",
        "   - **Interview responses** about personal experiences.\n",
        "\n",
        "  - **Quantitative Data:-**\n",
        "   - **Definition:-** Numerical data that measures quantities and can be analyzed mathematically.\n",
        "\n",
        "  - **Examples:-**\n",
        "\n",
        "   - Height of students in a classroom (in centimeters or inches).\n",
        "\n",
        "   - Number of people visiting a website per day.\n",
        "\n",
        "   - Temperature readings over a week.\n",
        "\n",
        "   - Sales figures of a company (revenue in dollars).\n",
        "\n",
        "  Simply put, **qualitative data** describes (words, categories), while **quantitative data** measures (numbers, statistics). Both types play a crucial role in research, helping to understand trends, behaviors, and outcomes."
      ],
      "metadata": {
        "id": "W-Uz_HiSZkS2"
      }
    },
    {
      "cell_type": "markdown",
      "source": [
        "Q9. **What are the different types of data in statistics?**\n",
        "  - In statistics, data is categorized into different types based on its characteristics and how it can be measured. The two main classifications are quantitative and qualitative data, which are further divided into subcategories.\n",
        "\n",
        "  - **1. Quantitative Data (Numerical Data)**\n",
        "   - Definition:- Data that can be measured or counted using numbers.\n",
        "\n",
        "  Subtypes:-\n",
        "\n",
        "    - Discrete Data:- Whole numbers or countable values (e.g., number of students in a class, number of cars in a parking lot).\n",
        "\n",
        "    - Continuous Data:- Measurable values that can take any number within a range (e.g., height, weight, temperature).\n",
        "\n",
        "  - **2. Qualitative Data (Categorical Data)**\n",
        "    - Definition:- Descriptive data that represents categories or labels rather than numerical values.\n",
        "\n",
        "  Subtypes:-\n",
        "\n",
        "    - Nominal Data:- Categories without any order (e.g., eye color, types of music, gender).\n",
        "\n",
        "    - Ordinal Data:- Categories that have a meaningful order or ranking but without precise differences between levels (e.g., customer satisfaction ratings: “poor,” “average,” “excellent”)"
      ],
      "metadata": {
        "id": "pbXFqbbJblZu"
      }
    },
    {
      "cell_type": "markdown",
      "source": [
        "Q10.**Explain nominal, ordinal, interval, and ratio levels of measurement.**\n",
        "   - Levels of measurement classify data based on its nature and the kind of statistical analysis that can be applied. The four main types are **nominal**, **ordinal, interval, and ratio:**\n",
        "\n",
        "- **1. Nominal Level (Categorical, No Order)**\n",
        "   - Data consists of labels or names without any specific order.\n",
        "\n",
        "   - Example:- Gender (Male, Female), Eye Color (Blue, Brown, Green), Types of Cuisine (Italian, Mexican, Chinese).\n",
        "\n",
        "   - Statistical Use:- Can only be counted and categorized.\n",
        "\n",
        "- **2. Ordinal Level (Ordered, But No Exact Differences)**\n",
        "   - Data is ranked or ordered, but the gaps between ranks are not uniform.\n",
        "\n",
        "   - Example:- Movie ratings (Poor, Average, Good, Excellent), Education Level (High School, College, Graduate).\n",
        "\n",
        "   - Statistical Use:- Can be compared but not meaningfully measured.\n",
        "\n",
        "- **3. Interval Level (Ordered, With Equal Differences, No True Zero)**\n",
        "    - Data is numerically measured with equal intervals between values, but it lacks a true zero (zero does not mean \"none\").\n",
        "\n",
        "    - Example:- Temperature in Celsius or Fahrenheit (0°C doesn’t mean 'no heat'), IQ Scores, Dates in a Calendar.\n",
        "\n",
        "    - Statistical Use:- Addition and subtraction make sense, but ratios don’t.\n",
        "\n",
        "- **4. Ratio Level (Ordered, Equal Differences, True Zero Exists)**\n",
        "    - Data has all the properties of interval data but includes a true zero, meaning ratios are meaningful.\n",
        "\n",
        "    - Example:- Weight, Height, Distance, Income (zero income means \"no money\").\n",
        "\n",
        "    - Statistical Use:- All mathematical operations (addition, subtraction, multiplication, division) apply"
      ],
      "metadata": {
        "id": "sDMp7FcQdNww"
      }
    },
    {
      "cell_type": "markdown",
      "source": [
        "Q11. **What is the measure of central tendency?**\n",
        "  - A m**easure of central tendency** is a statistical concept that identifies the center or typical value in a dataset. It helps summarize data with a single value that represents a distribution's overall trend.\n",
        "\n",
        "- **The Three Main Measures of Central Tendency:-**\n",
        "  - **1.Mean (Average):-** Sum of all values divided by the total number of values.\n",
        "\n",
        "   - Example:- If test scores are 80, 85, 90, the mean = (80 + 85 + 90) / 3 = 85.\n",
        "\n",
        "  - **2.Median (Middle Value):-** The middle number when values are arranged in order.\n",
        "\n",
        "   - Example:- In the dataset 12, 16, 22, 30, 35, the median = 22 (middle value).\n",
        "\n",
        "   - If there’s an even number of values, take the average of the two middle numbers.\n",
        "\n",
        "  - 3.**Mode (Most Frequent Value):-** The number that appears most often in a dataset.\n",
        "\n",
        "   - Example: In 4, 6, 6, 8, 10, the mode = 6 (since it appears twice).\n",
        "\n",
        "   - A dataset can be unimodal (one mode), bimodal (two modes), or multimodal (more than two modes).\n",
        "\n",
        "   Each measure is useful in different situations! The mean is best for evenly distributed data, the median is useful for skewed data, and the mode is helpful in categorical analysis."
      ],
      "metadata": {
        "id": "dO1CoRAYfG9H"
      }
    },
    {
      "cell_type": "markdown",
      "source": [
        "Q12. **Define mean, median, and mode.**\n",
        "  - **Mean, Median, and Mode Definitions :-**\n",
        "   These are the three primary measures of central tendency used in statistics to summarize data.\n",
        "\n",
        "  - **1.Mean (Average):-** The sum of all values divided by the total number of values.\n",
        "\n",
        "   - Example:- If test scores are 80, 85, 90, the mean = (80 + 85 + 90) / 3 = 85.\n",
        "\n",
        "   - Best for symmetrical data without extreme values.\n",
        "\n",
        "  - **2.Median (Middle Value):-** The middle number in an ordered dataset.\n",
        "\n",
        "   - Example: In 12, 16, 22, 30, 35, the median is 22.\n",
        "\n",
        "   - If there’s an even number of values, the median is the average of the two middle numbers.\n",
        "\n",
        "   - Useful for skewed distributions because it isn’t affected by outliers.\n",
        "\n",
        "- **3.Mode (Most Frequent Value):-** The value that appears most often in a dataset.\n",
        "\n",
        "   - Example: In 4, 6, 6, 8, 10, the mode is 6.\n",
        "\n",
        "   - A dataset can be unimodal (one mode), bimodal (two modes), or multimodal (more than two modes).\n",
        "\n",
        "  - Useful for categorical data where finding the most common category is necessary."
      ],
      "metadata": {
        "id": "NiPsb60dhgRw"
      }
    },
    {
      "cell_type": "markdown",
      "source": [
        "Q13.  **What is the significance of the measure of central tendency?**\n",
        "  - The measure of central tendency is a fundamental concept in statistics that helps summarize a dataset by identifying its central value. It provides a single representative number that describes the overall distribution of data, making it easier to analyze and interpret.\n",
        "\n",
        " # There are three main measures of central tendency ➡\n",
        "\n",
        "  - **Mean (Average):-** The sum of all values divided by the number of values. It is useful for datasets with balanced distributions but can be influenced by extreme values (outliers).\n",
        "\n",
        "  - **Median:-** The middle value when the data is arranged in ascending or descending order. It is less affected by outliers and is a better measure for skewed distributions.\n",
        "\n",
        "  - **Mode:-** The most frequently occurring value in a dataset. It is helpful when analyzing categorical data or identifying common trends.\n",
        "\n",
        "  # Significance of the measure central tendency ➡\n",
        "  - **Summarization:-** Helps simplify large datasets by providing a single number that represents the overall trend.\n",
        "\n",
        "  - **Comparison:-** Allows for comparisons between different datasets or groups.\n",
        "\n",
        "  - **Decision-Making:-** Used in various fields like economics, psychology, and business to make informed decisions.\n",
        "\n",
        "  - **Data Interpretation:-** Helps in understanding the distribution and central value of the data, guiding further statistical analysis.\n",
        "\n",
        "   In essence, central tendency provides a foundation for statistical reasoning, making data more accessible and actionable."
      ],
      "metadata": {
        "id": "kNnrVts_5aj2"
      }
    },
    {
      "cell_type": "markdown",
      "source": [
        "Q14. **What is variance, and how is it calculated?**\n",
        "  - Variance is a statistical measure that quantifies the spread or dispersion of a dataset. It indicates how much the individual data points deviate from the mean (average) of the dataset. A high variance means that the data points are spread out, while a low variance suggests they are closely clustered around the mean.\n",
        "\n",
        " # Method ot calculate variance ➡\n",
        "  - Variance (\n",
        "𝜎\n",
        "2\n",
        " for a population,\n",
        "𝑠\n",
        "2\n",
        " for a sample) is calculated using the following formula:-\n",
        "\n",
        "   - For a Population Variance:\n",
        "𝜎\n",
        "2\n",
        "=\n",
        "∑\n",
        "(\n",
        "𝑥\n",
        "𝑖\n",
        "−\n",
        "𝜇\n",
        ")\n",
        "2\n",
        "𝑁\n",
        "\n",
        "\n",
        " - Where:-\n",
        "\n",
        "- 𝑥\n",
        "𝑖\n",
        " = each data point\n",
        "\n",
        "   - 𝜇\n",
        " = population mean (average)\n",
        "\n",
        "   - 𝑁\n",
        " = total number of data points in the population\n",
        "\n",
        "-  For a Sample Variance:\n",
        "\n",
        "   𝑠\n",
        "2\n",
        "=\n",
        "∑\n",
        "(\n",
        "𝑥\n",
        "𝑖\n",
        "−\n",
        "𝑥\n",
        "ˉ\n",
        ")\n",
        "2\n",
        "𝑛\n",
        "−\n",
        "1\n",
        "- Where:\n",
        "\n",
        " - 𝑥\n",
        "𝑖\n",
        " = each sample data point\n",
        "\n",
        " - 𝑥\n",
        "ˉ\n",
        " = sample mean\n",
        "\n",
        " - 𝑛\n",
        " = number of data points in the sample\n",
        "\n",
        " - 𝑛\n",
        "−\n",
        "1\n",
        " (called Bessel's correction) is used to avoid underestimating the true variance of a population when working with a sample.\n",
        "\n",
        " # Importance of variance:-\n",
        "  - Helps assess data variability, which is crucial in fields like finance, economics, and quality control.\n",
        "\n",
        "  - Used in risk analysis, where higher variance implies greater unpredictability.\n",
        "\n",
        "  - Forms the basis for other statistical measures, such as standard deviation (which is simply the square root of variance)."
      ],
      "metadata": {
        "id": "AUvALRPX7p8e"
      }
    },
    {
      "cell_type": "markdown",
      "source": [
        "Q15.**What is standard deviation, and why is it important?**\n",
        "  - - Standard deviation is a key statistical measure that quantifies the amount of variation or dispersion in a dataset. It tells us how spread out the data points are from the mean (average). A low standard deviation means the data points are closely clustered around the mean, whereas a high standard deviation indicates greater variability.\n",
        "\n",
        "  # How is it calculated?\n",
        "   - Standard deviation (\n",
        "𝜎\n",
        "   for a population,\n",
        "𝑠\n",
        " for a sample) is simply the square root of variance:\n",
        "\n",
        "    - For a Population:\n",
        "\n",
        "   - 𝜎\n",
        "=\n",
        "∑\n",
        "(\n",
        "𝑥\n",
        "𝑖\n",
        "−\n",
        "𝜇\n",
        ")\n",
        "2\n",
        "𝑁\n",
        "  - For a Sample:-\n",
        "\n",
        "   - 𝑠\n",
        "=\n",
        "∑\n",
        "(\n",
        "𝑥\n",
        "𝑖\n",
        "−\n",
        "𝑥\n",
        "ˉ\n",
        ")\n",
        "2\n",
        "𝑛\n",
        "−\n",
        "1\n",
        "  - Where:-\n",
        "\n",
        "   - 𝑥\n",
        "𝑖\n",
        " = individual data points\n",
        "\n",
        "   - 𝜇\n",
        " = population mean,\n",
        "   - 𝑥\n",
        "ˉ\n",
        " = sample mean\n",
        "\n",
        "   - 𝑁\n",
        " = total number of values in a population\n",
        "\n",
        "   - 𝑛\n",
        "−\n",
        "1\n",
        " (Bessel's correction) is used for sample calculations.\n",
        "\n",
        "  # Importance of Standard Deviation:-\n",
        "   - **Assess Data Spread:-** Helps understand how much variation exists in the data.\n",
        "\n",
        "   - **Compare Datasets:-** Used to compare variability across different groups.\n",
        "\n",
        "   - **Risk Analysis:-** In finance, a high standard deviation suggests high volatility and risk.\n",
        "\n",
        "   - **Quality Control:-** Businesses use it to ensure product consistency.\n",
        "\n",
        "   - **Scientific Research:-** Helps determine if data is consistent or fluctuates significantly.\n"
      ],
      "metadata": {
        "id": "UOGCsNTZDiEo"
      }
    },
    {
      "cell_type": "markdown",
      "source": [
        "Q16.**Define and explain the term range in statistics.**\n",
        "  - In statistics, range is a measure of dispersion that represents the difference between the highest and lowest values in a dataset. It provides a simple way to understand the spread of data.\n",
        "\n",
        "  # How is Range Calculated?\n",
        "  - Range\n",
        "=\n",
        "Maximum Value\n",
        "−\n",
        "Minimum Value\n",
        "   - For example, if the dataset consists of values {3, 7, 10, 15, 20}, then:\n",
        "\n",
        "  - Range\n",
        "=\n",
        "20\n",
        "−\n",
        "3\n",
        "=\n",
        "17\n",
        "  # Importance of Range:-\n",
        "  - **Quick Insight into Spread:-** Helps determine how spread out the data is.\n",
        "\n",
        "  - **Identifies Extreme Values:-** Shows how much variation exists between the smallest and largest values.\n",
        "\n",
        "  - **Comparison Between Datasets:-** Can help compare different groups of data.\n",
        "\n",
        "  -**Initial Understanding of Variability:-** Often used before calculating more complex dispersion measures like variance and standard deviation."
      ],
      "metadata": {
        "id": "yjKGYElcGbeJ"
      }
    },
    {
      "cell_type": "markdown",
      "source": [
        "Q17. **What is the difference between variance and standard deviation?**\n",
        "  - Variance and standard deviation are both measures of dispersion, but they differ in how they represent variability in a dataset.\n",
        "\n",
        "   # Differences between variance and standard deviation:-\n",
        "\n",
        "  - **1.Definition:-**\n",
        "\n",
        "   - **Variance** (\n",
        "𝜎\n",
        "2\n",
        " or\n",
        "𝑠\n",
        "2\n",
        ") quantifies the average squared deviation of each data point from the mean. It describes how spread out the data is.\n",
        "\n",
        "   - **Standard Deviation** (\n",
        "𝜎\n",
        " or\n",
        "𝑠\n",
        ") is simply the square root of variance. It measures data spread in the same units as the original data, making interpretation easier.\n",
        "\n",
        "- **2.Formula:-**\n",
        "\n",
        "  - **Variance:-**\n",
        "\n",
        "  - 𝜎\n",
        "2\n",
        "=\n",
        "∑\n",
        "(\n",
        "𝑥\n",
        "𝑖\n",
        "−\n",
        "𝜇\n",
        ")\n",
        "2\n",
        "𝑁\n",
        "(for population)\n",
        "  - 𝑠\n",
        "2\n",
        "=\n",
        "∑\n",
        "(\n",
        "𝑥\n",
        "𝑖\n",
        "−\n",
        "𝑥\n",
        "ˉ\n",
        ")\n",
        "2\n",
        "𝑛\n",
        "−\n",
        "1\n",
        "(for sample)\n",
        "- **Standard Deviation:-**\n",
        "\n",
        "  - 𝜎\n",
        "=\n",
        "𝜎\n",
        "2\n",
        ",\n",
        "𝑠\n",
        "=\n",
        "𝑠\n",
        "2\n",
        "- **3.Interpretability:-**\n",
        "\n",
        " Variance is in squared units of the original data, making it harder to interpret directly.\n",
        "\n",
        " Standard deviation is in the same units as the data, making it more intuitive for comparisons."
      ],
      "metadata": {
        "id": "V3mzwXNGL9gK"
      }
    },
    {
      "cell_type": "markdown",
      "source": [
        "Q18. **What is skewness in a dataset?**\n",
        "  - Skewness is a measure of the asymmetry in the distribution of data. It indicates whether a dataset is symmetrically distributed around the mean or if it has a tendency to lean towards one side.\n",
        "\n",
        "  - **Types of Skewness:-**\n",
        "   - **Positive Skew (Right-Skewed):-**\n",
        "\n",
        "     - The right tail (higher values) is longer or stretched.\n",
        "\n",
        "     - Most data points are concentrated on the left, but there are a few extreme values pulling the mean to the right.\n",
        "\n",
        "     - Example: Income distribution (most people earn lower wages, while a few earn exceptionally high salaries).\n",
        "\n",
        "   - **Negative Skew (Left-Skewed):-**\n",
        "\n",
        "     - The left tail (lower values) is longer.\n",
        "\n",
        "     - Majority of values are on the right, but a few extreme low values pull the mean downward.\n",
        "\n",
        "     - Example: Age of retirement (most retire later, but some retire much earlier).\n",
        "\n",
        "   - **Zero Skew (Symmetrical Distribution):-**\n",
        "\n",
        "     - Data is evenly distributed around the mean.\n",
        "\n",
        "     - Example: Heights of adults in a population tend to be symmetrically distributed.\n"
      ],
      "metadata": {
        "id": "SvNhHXhRPTnc"
      }
    },
    {
      "cell_type": "markdown",
      "source": [
        "Q19.**What does it mean if a dataset is positively or negatively skewed?**\n",
        "  - When a dataset is **positively** or **negatively skewed**, it means that the distribution of values is asymmetrical, affecting how the mean, median, and mode relate to each other.\n",
        "\n",
        " # Positively Skewed (Right-Skewed) Distribution 📈\n",
        "  - The right tail of the distribution is longer.\n",
        "\n",
        "  - Most data points are concentrated on the left, but a few large values pull the mean toward the right.\n",
        "\n",
        "  - Mean > Median > Mode (the mean is dragged up by higher values).\n",
        "\n",
        "  - Example: Income distribution—most people earn a moderate salary, but a few extremely high earners push the mean upward.\n",
        "\n",
        " # Negatively Skewed (Left-Skewed) Distribution 📉\n",
        "  - The left tail is longer.\n",
        "\n",
        "  - Most values are concentrated on the right, but a few very low values pull the mean toward the left.\n",
        "\n",
        "  - Mean < Median < Mode (the mean is dragged down by lower values).\n",
        "\n",
        "  - Example: Test scores—if a majority of students score high but a few perform poorly, the distribution may be negatively skewed."
      ],
      "metadata": {
        "id": "T9saNrVrRmus"
      }
    },
    {
      "cell_type": "markdown",
      "source": [
        "Q20. **Define and explain kurtosis.**\n",
        "   - Kurtosis is a statistical measure that describes the shape of a probability distribution, specifically the tailedness or peakedness of the data compared to a normal distribution.\n",
        "\n",
        " # Types of Kurtosis:-\n",
        "\n",
        "- **Mesokurtic (Normal Distribution)**\n",
        "\n",
        "  - The distribution has moderate tails.\n",
        "\n",
        "  - Example: The normal distribution (bell curve) is mesokurtic, meaning its kurtosis is close to 0.\n",
        "\n",
        "- **Leptokurtic (Heavy Tails)**\n",
        "\n",
        "  - The distribution has steeper peaks and fatter tails than a normal distribution.\n",
        "\n",
        "  - Higher probability of extreme values (outliers).\n",
        "\n",
        "  - Example: Stock market returns—occasional extreme gains and losses result in leptokurtic distributions.\n",
        "\n",
        "- **Platykurtic (Light Tails)**\n",
        "\n",
        "  - The distribution has flatter peaks and thinner tails compared to a normal distribution.\n",
        "\n",
        "  - Outliers are less frequent.\n",
        "\n",
        "  - Example: Uniform distributions, where data is evenly spread.\n",
        "\n",
        "- **Formula for Kurtosis:-**\n",
        "- Kurtosis (\n",
        "   𝐾\n",
        ") is calculated as:-\n",
        "\n",
        "  - 𝐾\n",
        "=\n",
        "∑\n",
        "(\n",
        "𝑥\n",
        "𝑖\n",
        "−\n",
        "𝑥\n",
        "ˉ\n",
        ")\n",
        "4\n",
        "(\n",
        "𝑛\n",
        "−\n",
        "1\n",
        ")\n",
        "⋅\n",
        "𝑠\n",
        "4\n",
        "\n",
        " # Where:-\n",
        "\n",
        "  - 𝑥\n",
        "𝑖\n",
        " = individual data points\n",
        "\n",
        "  - 𝑥\n",
        "ˉ\n",
        " = mean\n",
        "\n",
        "  - 𝑠\n",
        " = standard deviation\n",
        "\n",
        "  - 𝑛\n",
        " = number of observations\n",
        "\n",
        "  A kurtosis value of 3 corresponds to a normal distribution. In practical applications, excess kurtosis is often used:-\n",
        "\n",
        "     - Excess Kurtosis\n",
        "=\n",
        "𝐾\n",
        "−\n",
        "3\n",
        "\n",
        "- Excess > 0 → Leptokurtic (high-tailed)\n",
        "\n",
        "- Excess < 0 → Platykurtic (low-tailed)\n",
        "\n",
        " # Importance of Kurtosis:-\n",
        "- Helps assess risk and volatility in finance (markets with extreme movements have higher kurtosis).\n",
        "\n",
        "- Used in quality control to detect unusual variations in production.\n",
        "\n",
        "- Important for data modeling—different kurtosis levels affect statistical analysis."
      ],
      "metadata": {
        "id": "cM8Cl9Q5Sx0W"
      }
    },
    {
      "cell_type": "markdown",
      "source": [
        "Q21. **What is the purpose of covariance?**\n",
        "  - Covariance is a statistical measure that helps determine the relationship between two variables—specifically, how they change together. It indicates whether an increase in one variable corresponds to an increase or decrease in another.\n",
        "\n",
        "  # Purpose of Covariance:-\n",
        "  - **1.Measures Direction of Relationship:-**\n",
        "\n",
        "    - P**ositive Covariance:-** As one variable increases, the other also tends to increase.\n",
        "\n",
        "    - **Negative Covariance:-** As one variable increases, the other tends to decrease.\n",
        "\n",
        "    - **Zero Covariance:-** No relationship exists between the variables.\n",
        "\n",
        "  - **2.Foundation for Correlation Analysis:-**\n",
        "\n",
        "    - Covariance is used to calculate correlation, which standardizes the strength of the relationship.\n",
        "\n",
        "  - **3.Essential for Portfolio and Risk Management (Finance):-**\n",
        "\n",
        "    - In investing, covariance helps understand how assets move together—whether they increase or decrease in value simultaneously. This aids in diversification strategies to reduce risk.\n",
        "\n",
        "  - **4.Predictive Modeling & Machine Learning:-**\n",
        "\n",
        "   - Covariance is used in feature selection and dimensionality reduction techniques like Principal Component Analysis (PCA)."
      ],
      "metadata": {
        "id": "_JJs3AN1Vzu9"
      }
    },
    {
      "cell_type": "markdown",
      "source": [
        "Q22.**What does correlation measure in statistics?**\n",
        "  - Correlation measures the **strength and direction** of the relationship between two variables in statistics. It quantifies how changes in one variable are associated with changes in another.\n",
        "\n",
        " ### **Key Aspects of Correlation:-**\n",
        " 1. **Strength of Relationship:**  \n",
        "   - A higher correlation value indicates a stronger association between the variables.\n",
        "   - A lower correlation value suggests a weaker relationship.\n",
        "\n",
        " 2. **Direction of Relationship:**  \n",
        "   - **Positive Correlation**: As one variable increases, the other also increases. (e.g., height and weight—taller people tend to weigh more)\n",
        "   - **Negative Correlation**: As one variable increases, the other decreases. (e.g., exercise time and body fat—more exercise often leads to lower body fat)\n",
        "   - **Zero Correlation**: No relationship between the two variables. (e.g., shoe size and intelligence)\n",
        "\n",
        " ### **Common Types of Correlation:-**\n",
        " - **Pearson's Correlation Coefficient (\\(r\\))**  \n",
        "     - Measures the linear relationship between two continuous variables.\n",
        "     - Value ranges from **-1 to +1**:\n",
        "     - \\( +1 \\) → Perfect positive correlation\n",
        "     - \\( -1 \\) → Perfect negative correlation\n",
        "     - \\( 0 \\) → No correlation  \n",
        "\n",
        "- **Spearman's Rank Correlation**  \n",
        "  - Used for ranked (ordinal) data rather than continuous numerical data.\n",
        "  - Suitable when the relationship is **non-linear** but still monotonic.\n",
        "\n",
        " ### **Importance:-**\n",
        "- **Predictive Analytics**: Helps forecast trends (e.g., sales vs. advertising spending).  \n",
        "- **Research & Experimentation**: Identifies relationships between variables in scientific studies.  \n",
        "- **Risk Management (Finance)**: Evaluates asset dependencies to mitigate risk.  \n",
        "- **Decision-Making**: Supports data-driven choices in various industries.  \n",
        "\n",
        " Correlation is foundational in data analysis, but it **does not imply causation**—just because two variables are correlated doesn’t mean one causes the other.  \n"
      ],
      "metadata": {
        "id": "bJQT-cF9XWh_"
      }
    },
    {
      "cell_type": "markdown",
      "source": [
        "Q23. **What is the difference between covariance and correlation?**\n",
        "  - Covariance and correlation both measure the **relationship** between two variables, but they differ in how they quantify and interpret the relationship.\n",
        "\n",
        " ### **Key Differences:-**\n",
        "1. **Definition:**\n",
        "   - **Covariance** measures the **direction** of the relationship between two variables—whether they move together or in opposite directions.\n",
        "   - **Correlation** quantifies both the **strength and direction** of the relationship on a standardized scale.\n",
        "\n",
        " 2. **Interpretability:-**\n",
        "   - Covariance values can range from **negative to positive infinity**, making interpretation difficult.\n",
        "   - Correlation is **normalized** between **-1 and +1**, making it easier to understand:\n",
        "     - \\( +1 \\) → Perfect positive correlation  \n",
        "     - \\( -1 \\) → Perfect negative correlation  \n",
        "     - \\( 0 \\) → No correlation  \n",
        "\n",
        " 3. **Formula:-**\n",
        "   - **Covariance:**  \n",
        "        - Cov\n",
        "(\n",
        "𝑋\n",
        ",\n",
        "𝑌\n",
        ")\n",
        "=\n",
        "∑\n",
        "(\n",
        "𝑥\n",
        "𝑖\n",
        "−\n",
        "𝑥\n",
        "ˉ\n",
        ")\n",
        "(\n",
        "𝑦\n",
        "𝑖\n",
        "−\n",
        "𝑦\n",
        "ˉ\n",
        ") /\n",
        "𝑛\n",
        "−\n",
        "1\n",
        "\n",
        " - **Correlation (Pearson's r):-**\n",
        "       - 𝑟\n",
        "=\n",
        "Cov\n",
        "(\n",
        "𝑋\n",
        ",\n",
        "𝑌\n",
        ") /\n",
        "𝜎\n",
        "𝑋\n",
        "𝜎\n",
        "𝑌\n",
        "     \n",
        "     Here, correlation divides covariance by the product of the standard deviations, **standardizing** the values.\n",
        "\n",
        " 4. **Use Cases:-**\n",
        "   - Covariance is useful for **understanding the directional relationship** between variables but is often used as an intermediate step.\n",
        "   - Correlation is preferred in **real-world applications** like finance, research, and data science because it gives a clear and consistent measure of association.\n",
        "\n",
        " ### **Summary:-**  \n",
        " - Covariance indicates **how two variables move together** but lacks a clear interpretation of strength.\n",
        " - Correlation refines covariance by **standardizing the relationship**, making comparisons easier.\n"
      ],
      "metadata": {
        "id": "Cl7hIZEoash2"
      }
    },
    {
      "cell_type": "markdown",
      "source": [
        "Q24. **What are some real-world applications of statistics?**\n",
        "   - Statistics is a powerful tool used across countless industries and fields to analyze data, make informed decisions, and predict trends. Here are some key real-world applications:\n",
        "\n",
        " ### **1. Business & Economics**\n",
        "- **Market Analysis:-** Companies use statistics to study consumer behavior and forecast demand.\n",
        "- **Quality Control:-** Ensures product consistency and improves manufacturing processes.\n",
        "- **Financial Modeling:-** Helps assess risks, predict stock market trends, and optimize investments.\n",
        "\n",
        " ### **2. Healthcare & Medicine**\n",
        "- **Epidemiology:-** Tracks disease outbreaks and assesses public health risks.\n",
        "- **Clinical Trials:-** Determines the effectiveness and safety of new treatments.\n",
        "- **Medical Diagnostics:-** AI-driven medical imaging uses statistical models for early disease detection.\n",
        "\n",
        " ### **3. Engineering & Technology**\n",
        "- **Machine Learning & AI:-** Algorithms rely on statistical analysis to detect patterns and make predictions.\n",
        "- **Reliability Testing:-** Ensures safety and efficiency of products like bridges, vehicles, and software systems.\n",
        "- **Telecommunications:-** Optimizes network performance and improves data transmission.\n",
        "\n",
        " ### **4. Social Sciences & Psychology**\n",
        "- **Survey Analysis:-** Helps governments and researchers understand social behaviors.\n",
        "- **Experimental Research:-** Evaluates human decision-making, cognitive processes, and behavioral trends.\n",
        "- **Education Statistics:-** Analyzes student performance, standardized testing, and school effectiveness.\n",
        "\n",
        " ### **5. Government & Public Policy**\n",
        "- **Census Data:-** Helps shape public policies and allocate resources efficiently.\n",
        "- **Crime Statistics:-** Assists law enforcement in identifying crime patterns and prevention strategies.\n",
        "- **Election Forecasting:-** Predicts voting trends and political outcomes.\n",
        "\n",
        " ### **6. Sports & Entertainment**\n",
        "- **Performance Analytics:-** Teams track player statistics to improve strategies.\n",
        "- **Betting & Odds:-** Used in sports betting and gambling industries.\n",
        "- **Streaming & Content Recommendation:-** Platforms analyze viewing habits to suggest personalized content.\n",
        "\n",
        " ### **7. Environmental & Climate Studies**\n",
        "- **Weather Forecasting:-** Predicts natural disasters and climate trends.\n",
        "- **Wildlife Conservation:-** Tracks species populations and biodiversity changes.\n",
        "- **Agricultural Optimization:-** Enhances crop production and food distribution.\n",
        "\n",
        " From predicting disease outbreaks to enhancing AI systems, statistics plays a crucial role in making the world more data-driven and efficient."
      ],
      "metadata": {
        "id": "qu_thKDFdTPX"
      }
    },
    {
      "cell_type": "markdown",
      "source": [
        "## **Practical Questions**"
      ],
      "metadata": {
        "id": "CoDnz_7iehmn"
      }
    },
    {
      "cell_type": "markdown",
      "source": [
        "Q1. **How do you calculate the mean, median, and mode of a dataset?**"
      ],
      "metadata": {
        "id": "3AEtTBWze6qY"
      }
    },
    {
      "cell_type": "code",
      "source": [
        "#mean\n",
        "age = [10,25,20,45,65,40,55,30,70,60]"
      ],
      "metadata": {
        "id": "r5FDwRDmx1SA"
      },
      "execution_count": null,
      "outputs": []
    },
    {
      "cell_type": "code",
      "source": [
        "import numpy as np\n",
        "np.mean(age)"
      ],
      "metadata": {
        "colab": {
          "base_uri": "https://localhost:8080/"
        },
        "id": "fgv4ntoNyqGw",
        "outputId": "739e0ee9-3976-4b71-dfc0-47394125743f"
      },
      "execution_count": null,
      "outputs": [
        {
          "output_type": "execute_result",
          "data": {
            "text/plain": [
              "np.float64(42.0)"
            ]
          },
          "metadata": {},
          "execution_count": 10
        }
      ]
    },
    {
      "cell_type": "code",
      "source": [
        "#median\n",
        "num = [10,25,20,45,65,40,55,]"
      ],
      "metadata": {
        "id": "9L26ObA41lta"
      },
      "execution_count": null,
      "outputs": []
    },
    {
      "cell_type": "code",
      "source": [
        "np.median(num)"
      ],
      "metadata": {
        "colab": {
          "base_uri": "https://localhost:8080/"
        },
        "id": "3gUcQMHb2IXZ",
        "outputId": "e0d1005d-e9b9-471c-ba5b-62e62a8fffdc"
      },
      "execution_count": null,
      "outputs": [
        {
          "output_type": "execute_result",
          "data": {
            "text/plain": [
              "np.float64(40.0)"
            ]
          },
          "metadata": {},
          "execution_count": 12
        }
      ]
    },
    {
      "cell_type": "code",
      "source": [
        "#mode\n",
        "values = [1,2,2,3,3,3,4,4,4,4,5,5,5,5,5]"
      ],
      "metadata": {
        "id": "hqgEFcYX2MU6"
      },
      "execution_count": null,
      "outputs": []
    },
    {
      "cell_type": "code",
      "source": [
        "from scipy import stats\n",
        "stats.mode(values)"
      ],
      "metadata": {
        "colab": {
          "base_uri": "https://localhost:8080/"
        },
        "id": "rrQEEfvl2WtJ",
        "outputId": "98259680-807d-457b-ba47-e01637eb7f4e"
      },
      "execution_count": null,
      "outputs": [
        {
          "output_type": "execute_result",
          "data": {
            "text/plain": [
              "ModeResult(mode=np.int64(5), count=np.int64(5))"
            ]
          },
          "metadata": {},
          "execution_count": 14
        }
      ]
    },
    {
      "cell_type": "markdown",
      "source": [
        "Q2. **Write a Python program to compute the variance and standard deviation of a dataset.**"
      ],
      "metadata": {
        "id": "lqTqykfk3GUj"
      }
    },
    {
      "cell_type": "code",
      "source": [
        "import statistics\n",
        "\n",
        "# Sample dataset\n",
        "data = [12, 15, 14, 10, 18, 20, 25, 30]\n",
        "\n",
        "# Calculate variance\n",
        "variance = statistics.variance(data)\n",
        "\n",
        "# Calculate standard deviation\n",
        "std_dev = statistics.stdev(data)\n",
        "\n",
        "print(f\"Variance: {variance}\")\n",
        "print(f\"Standard Deviation: {std_dev}\")\n"
      ],
      "metadata": {
        "colab": {
          "base_uri": "https://localhost:8080/"
        },
        "id": "WGRfSvJm2mwq",
        "outputId": "2d4400c8-2e91-47f6-f4b5-0d734b122f3e"
      },
      "execution_count": null,
      "outputs": [
        {
          "output_type": "stream",
          "name": "stdout",
          "text": [
            "Variance: 46\n",
            "Standard Deviation: 6.782329983125268\n"
          ]
        }
      ]
    },
    {
      "cell_type": "markdown",
      "source": [
        "**Q3. Create a dataset and classify it into nominal, ordinal, interval, and ratio types.**"
      ],
      "metadata": {
        "id": "VNIQCbKt3XkW"
      }
    },
    {
      "cell_type": "code",
      "source": [
        "import pandas as pd\n",
        "\n",
        "# sample dataset\n",
        "data = {\n",
        "    'Customer ID': [1, 2, 3, 4, 5],\n",
        "    'Gender': ['Male', 'Female', 'Male', 'Female', 'Male'],\n",
        "    'Education Level': ['High School', 'Bachelor', 'Master', 'High School', 'PhD'],\n",
        "    'Customer Satisfaction': [3, 5, 4, 2, 5],\n",
        "    'Temperature Preference': [22, 25, 18, 20, 28],\n",
        "    'Annual Income': [50000, 75000, 90000, 60000, 120000]\n",
        "}\n",
        "\n",
        "df = pd.DataFrame(data)\n",
        "\n",
        "# Classify the data types\n",
        "print(df)\n",
        "\n",
        "print(\"\\nData Type Classification:\")\n",
        "print(\"Nominal:\", ['Gender'])\n",
        "print(\"Ordinal:\", ['Education Level', 'Customer Satisfaction'])\n",
        "print(\"Interval:\", ['Temperature Preference'])\n",
        "print(\"Ratio:\", ['Customer ID', 'Annual Income'])\n",
        "\n"
      ],
      "metadata": {
        "colab": {
          "base_uri": "https://localhost:8080/"
        },
        "id": "-8JuzKSc3jC6",
        "outputId": "e0749297-54eb-4a3f-81fe-22780b95c196"
      },
      "execution_count": null,
      "outputs": [
        {
          "output_type": "stream",
          "name": "stdout",
          "text": [
            "   Customer ID  Gender Education Level  Customer Satisfaction  \\\n",
            "0            1    Male     High School                      3   \n",
            "1            2  Female        Bachelor                      5   \n",
            "2            3    Male          Master                      4   \n",
            "3            4  Female     High School                      2   \n",
            "4            5    Male             PhD                      5   \n",
            "\n",
            "   Temperature Preference  Annual Income  \n",
            "0                      22          50000  \n",
            "1                      25          75000  \n",
            "2                      18          90000  \n",
            "3                      20          60000  \n",
            "4                      28         120000  \n",
            "\n",
            "Data Type Classification:\n",
            "Nominal: ['Gender']\n",
            "Ordinal: ['Education Level', 'Customer Satisfaction']\n",
            "Interval: ['Temperature Preference']\n",
            "Ratio: ['Customer ID', 'Annual Income']\n"
          ]
        }
      ]
    },
    {
      "cell_type": "markdown",
      "source": [
        "**Q4.Implement sampling techniques like random sampling and stratified sampling.**\n",
        "  - **Random Sampling**\n",
        "Random sampling selects data points purely by chance from a dataset."
      ],
      "metadata": {
        "id": "tfUwI7Gx3ywS"
      }
    },
    {
      "cell_type": "code",
      "source": [
        "import random\n",
        "\n",
        "# Sample dataset\n",
        "population = [\"Alice\", \"Bob\", \"Charlie\", \"David\", \"Eve\", \"Frank\", \"Grace\", \"Hannah\"]\n",
        "\n",
        "# Select 3 random samples from the population\n",
        "random_sample = random.sample(population, 3)\n",
        "\n",
        "print(\"Random Sample:\", random_sample)\n"
      ],
      "metadata": {
        "colab": {
          "base_uri": "https://localhost:8080/"
        },
        "id": "H8bxNQ1a3WFC",
        "outputId": "3a7a4ae6-92fb-4967-98a3-70cfb4b2f504"
      },
      "execution_count": null,
      "outputs": [
        {
          "output_type": "stream",
          "name": "stdout",
          "text": [
            "Random Sample: ['Grace', 'David', 'Eve']\n"
          ]
        }
      ]
    },
    {
      "cell_type": "markdown",
      "source": [
        " - Stratified Sampling\n",
        "Stratified sampling divides the population into groups (strata) and then randomly selects samples from each group."
      ],
      "metadata": {
        "id": "ZJWGh6gZ4jCT"
      }
    },
    {
      "cell_type": "code",
      "source": [
        "import pandas as pd\n",
        "from sklearn.model_selection import train_test_split\n",
        "\n",
        "# Create a dataset with categories (strata)\n",
        "data = pd.DataFrame({\n",
        "    \"Name\": [\"Alice\", \"Bob\", \"Charlie\", \"David\", \"Eve\", \"Frank\", \"Grace\", \"Hannah\"],\n",
        "    \"Category\": [\"A\", \"A\", \"B\", \"B\", \"C\", \"C\", \"D\", \"D\"]\n",
        "})\n",
        "\n",
        "# Perform stratified sampling (taking 1 sample per category)\n",
        "stratified_sample = data.groupby(\"Category\", group_keys=False).apply(lambda x: x.sample(1))\n",
        "\n",
        "print(\"Stratified Sample:\\n\", stratified_sample)\n"
      ],
      "metadata": {
        "colab": {
          "base_uri": "https://localhost:8080/"
        },
        "id": "9hek9drr4r0U",
        "outputId": "5b9690be-497f-4d04-abd5-502e34ef30bf"
      },
      "execution_count": null,
      "outputs": [
        {
          "output_type": "stream",
          "name": "stdout",
          "text": [
            "Stratified Sample:\n",
            "      Name Category\n",
            "0   Alice        A\n",
            "3   David        B\n",
            "5   Frank        C\n",
            "7  Hannah        D\n"
          ]
        },
        {
          "output_type": "stream",
          "name": "stderr",
          "text": [
            "<ipython-input-17-b66f6896cd5b>:11: DeprecationWarning: DataFrameGroupBy.apply operated on the grouping columns. This behavior is deprecated, and in a future version of pandas the grouping columns will be excluded from the operation. Either pass `include_groups=False` to exclude the groupings or explicitly select the grouping columns after groupby to silence this warning.\n",
            "  stratified_sample = data.groupby(\"Category\", group_keys=False).apply(lambda x: x.sample(1))\n"
          ]
        }
      ]
    },
    {
      "cell_type": "markdown",
      "source": [
        "**Q5. Write a Python function to calculate the range of a dataset.**"
      ],
      "metadata": {
        "id": "0bXUW1hQ4xEk"
      }
    },
    {
      "cell_type": "code",
      "source": [
        "def calculate_range(data):\n",
        "    \"\"\"Calculate the range of a dataset.\"\"\"\n",
        "    if not data:\n",
        "        return \"Dataset is empty.\"\n",
        "\n",
        "    return max(data) - min(data)\n",
        "\n",
        "# Example usage\n",
        "dataset = [12, 25, 7, 19, 30, 15]\n",
        "range_value = calculate_range(dataset)\n",
        "\n",
        "print(f\"Range of the dataset: {range_value}\")\n"
      ],
      "metadata": {
        "colab": {
          "base_uri": "https://localhost:8080/"
        },
        "id": "cYlLl2az4NjK",
        "outputId": "a0cdf515-317a-45e3-93d2-971f77d90ebb"
      },
      "execution_count": null,
      "outputs": [
        {
          "output_type": "stream",
          "name": "stdout",
          "text": [
            "Range of the dataset: 23\n"
          ]
        }
      ]
    },
    {
      "cell_type": "markdown",
      "source": [
        "**Q6.Create a dataset and plot its histogram to visualize skewness.**"
      ],
      "metadata": {
        "id": "CWpl4DJh5JhF"
      }
    },
    {
      "cell_type": "code",
      "source": [
        "import numpy as np\n",
        "import matplotlib.pyplot as plt\n",
        "\n",
        "# Generate a right-skewed dataset (positively skewed)\n",
        "data = np.random.exponential(scale=2, size=1000)\n",
        "\n",
        "# Plot histogram\n",
        "plt.hist(data, bins=30, edgecolor='black', alpha=0.7)\n",
        "\n",
        "# Add labels and title\n",
        "plt.xlabel(\"Values\")\n",
        "plt.ylabel(\"Frequency\")\n",
        "plt.title(\"Histogram to Visualize Skewness\")\n",
        "\n",
        "# Show the plot\n",
        "plt.show()\n"
      ],
      "metadata": {
        "colab": {
          "base_uri": "https://localhost:8080/",
          "height": 472
        },
        "id": "TbXV5tfb5Cu6",
        "outputId": "8e1ce07d-517d-4060-f288-fb46196cc796"
      },
      "execution_count": null,
      "outputs": [
        {
          "output_type": "display_data",
          "data": {
            "text/plain": [
              "<Figure size 640x480 with 1 Axes>"
            ],
            "image/png": "[encoded data removed]"
          },
          "metadata": {}
        }
      ]
    },
    {
      "cell_type": "markdown",
      "source": [
        "**Q7. Calculate skewness and kurtosis of a dataset using Python libraries.**"
      ],
      "metadata": {
        "id": "xK7PQCAU5mak"
      }
    },
    {
      "cell_type": "code",
      "source": [
        "import numpy as np\n",
        "import scipy.stats as stats\n",
        "import pandas as pd\n",
        "\n",
        "# Generate a sample dataset\n",
        "data = np.random.normal(loc=50, scale=10, size=1000)  # Normally distributed data\n",
        "\n",
        "# Calculate skewness\n",
        "skewness = stats.skew(data)\n",
        "\n",
        "# Calculate kurtosis\n",
        "kurtosis = stats.kurtosis(data)\n",
        "\n",
        "print(f\"Skewness: {skewness}\")\n",
        "print(f\"Kurtosis: {kurtosis}\")\n"
      ],
      "metadata": {
        "colab": {
          "base_uri": "https://localhost:8080/"
        },
        "id": "gkN1eORc5cZ6",
        "outputId": "6d547b2a-27e7-4430-9d5d-441ad0fd600f"
      },
      "execution_count": null,
      "outputs": [
        {
          "output_type": "stream",
          "name": "stdout",
          "text": [
            "Skewness: -0.015871810073705667\n",
            "Kurtosis: 0.37084944236384576\n"
          ]
        }
      ]
    },
    {
      "cell_type": "markdown",
      "source": [
        "**Q8.Generate a dataset and demonstrate positive and negative skewness.**"
      ],
      "metadata": {
        "id": "1CUiRkKR56Mj"
      }
    },
    {
      "cell_type": "code",
      "source": [
        "import numpy as np\n",
        "import matplotlib.pyplot as plt\n",
        "import scipy.stats as stats\n",
        "\n",
        "# Generate positively skewed data (right-skewed)\n",
        "positive_skew = np.random.exponential(scale=2, size=1000)\n",
        "\n",
        "# Generate negatively skewed data (left-skewed)\n",
        "negative_skew = 10 - np.random.exponential(scale=2, size=1000)  # Shift left\n",
        "\n",
        "# Plot histograms\n",
        "fig, axes = plt.subplots(1, 2, figsize=(12, 5))\n",
        "\n",
        "# Positive Skew (Default color)\n",
        "axes[0].hist(positive_skew, bins=30, edgecolor='black', alpha=0.7)\n",
        "axes[0].set_title(\"Positively Skewed Distribution\")\n",
        "axes[0].set_xlabel(\"Values\")\n",
        "axes[0].set_ylabel(\"Frequency\")\n",
        "\n",
        "# Negative Skew (Red color)\n",
        "axes[1].hist(negative_skew, bins=30, edgecolor='black', alpha=0.7, color='red')\n",
        "axes[1].set_title(\"Negatively Skewed Distribution\")\n",
        "axes[1].set_xlabel(\"Values\")\n",
        "axes[1].set_ylabel(\"Frequency\")\n",
        "\n",
        "# Show the plots\n",
        "plt.tight_layout()\n",
        "plt.show()\n"
      ],
      "metadata": {
        "colab": {
          "base_uri": "https://localhost:8080/",
          "height": 507
        },
        "id": "DlNdpbRs7q4E",
        "outputId": "20bc8622-6d6d-4a69-841f-d3ac1380eeb1"
      },
      "execution_count": null,
      "outputs": [
        {
          "output_type": "display_data",
          "data": {
            "text/plain": [
              "<Figure size 1200x500 with 2 Axes>"
            ],
            "image/png": "[encoded data removed]"
          },
          "metadata": {}
        }
      ]
    },
    {
      "cell_type": "markdown",
      "source": [
        "**Q9.Write a Python script to calculate covariance between two datasets.**"
      ],
      "metadata": {
        "id": "wgZWv4nr6W60"
      }
    },
    {
      "cell_type": "code",
      "source": [
        "import numpy as np\n",
        "\n",
        "def calculate_covariance(dataset1, dataset2):\n",
        "    \"\"\"Calculate covariance between two datasets.\"\"\"\n",
        "    if len(dataset1) != len(dataset2):\n",
        "        return \"Datasets must be of equal length.\"\n",
        "\n",
        "    return np.cov(dataset1, dataset2, bias=True)[0][1]\n",
        "\n",
        "# Example datasets\n",
        "data1 = [12, 15, 20, 22, 24, 30]\n",
        "data2 = [10, 18, 25, 22, 28, 35]\n",
        "\n",
        "# Compute covariance\n",
        "covariance = calculate_covariance(data1, data2)\n",
        "\n",
        "print(f\"Covariance: {covariance}\")\n"
      ],
      "metadata": {
        "colab": {
          "base_uri": "https://localhost:8080/"
        },
        "id": "jMmXFpxO8JFc",
        "outputId": "95b2a9ea-16f0-43ce-e65a-13b553026af4"
      },
      "execution_count": null,
      "outputs": [
        {
          "output_type": "stream",
          "name": "stdout",
          "text": [
            "Covariance: 44.5\n"
          ]
        }
      ]
    },
    {
      "cell_type": "markdown",
      "source": [
        "**Q10.Write a Python script to calculate the correlation coefficient between two datasets.**"
      ],
      "metadata": {
        "id": "o1ZMfa2U80zD"
      }
    },
    {
      "cell_type": "code",
      "source": [
        "import numpy as np\n",
        "\n",
        "def calculate_correlation(dataset1, dataset2):\n",
        "    \"\"\"Calculate the Pearson correlation coefficient.\"\"\"\n",
        "    if len(dataset1) != len(dataset2):\n",
        "        return \"Datasets must be of equal length.\"\n",
        "\n",
        "    return np.corrcoef(dataset1, dataset2)[0, 1]\n",
        "\n",
        "# Example datasets\n",
        "data1 = [12, 15, 20, 22, 24, 30]\n",
        "data2 = [10, 18, 25, 22, 28, 35]\n",
        "\n",
        "# Compute correlation coefficient\n",
        "correlation = calculate_correlation(data1, data2)\n",
        "\n",
        "print(f\"Pearson Correlation Coefficient: {correlation}\")\n"
      ],
      "metadata": {
        "colab": {
          "base_uri": "https://localhost:8080/"
        },
        "id": "AHqqmg5d9pcV",
        "outputId": "ab3b4fbd-8371-4aa0-af71-df7157404fef"
      },
      "execution_count": null,
      "outputs": [
        {
          "output_type": "stream",
          "name": "stdout",
          "text": [
            "Pearson Correlation Coefficient: 0.9662250696811026\n"
          ]
        }
      ]
    },
    {
      "cell_type": "markdown",
      "source": [
        "**Q11.Create a scatter plot to visualize the relationship between two variables.**"
      ],
      "metadata": {
        "id": "VZfVvmK1-EqF"
      }
    },
    {
      "cell_type": "code",
      "source": [
        "import matplotlib.pyplot as plt\n",
        "\n",
        "# Sample data (two variables)\n",
        "x = [12, 15, 20, 22, 24, 30]  # Independent variable\n",
        "y = [10, 18, 25, 22, 28, 35]  # Dependent variable\n",
        "\n",
        "# Create scatter plot\n",
        "plt.scatter(x, y, color='blue', edgecolors='black', alpha=0.7)\n",
        "\n",
        "# Add labels and title\n",
        "plt.xlabel(\"Variable X\")\n",
        "plt.ylabel(\"Variable Y\")\n",
        "plt.title(\"Scatter Plot of Two Variables\")\n",
        "\n",
        "# Show the plot\n",
        "plt.show()\n"
      ],
      "metadata": {
        "colab": {
          "base_uri": "https://localhost:8080/",
          "height": 472
        },
        "id": "X1k_k4kv-L3s",
        "outputId": "f07fd417-6038-48d6-8bed-c7ad5d0edcfb"
      },
      "execution_count": null,
      "outputs": [
        {
          "output_type": "display_data",
          "data": {
            "text/plain": [
              "<Figure size 640x480 with 1 Axes>"
            ],
            "image/png": "[encoded data removed]"
          },
          "metadata": {}
        }
      ]
    },
    {
      "cell_type": "markdown",
      "source": [
        "**Q12.Implement and compare simple random sampling and systematic sampling.**"
      ],
      "metadata": {
        "id": "jwxIH3T4-uVV"
      }
    },
    {
      "cell_type": "code",
      "source": [
        "#1. Simple Random Sampling\n",
        "import random\n",
        "\n",
        "# Sample dataset (population)\n",
        "population = list(range(1, 101))  # Numbers from 1 to 100\n",
        "\n",
        "# Select 10 random samples\n",
        "random_sample = random.sample(population, 10)\n",
        "\n",
        "print(\"Simple Random Sample:\", random_sample)\n"
      ],
      "metadata": {
        "colab": {
          "base_uri": "https://localhost:8080/"
        },
        "id": "mlObm-Qj--6P",
        "outputId": "81599cb9-6187-4552-d3aa-edfdabd424cf"
      },
      "execution_count": null,
      "outputs": [
        {
          "output_type": "stream",
          "name": "stdout",
          "text": [
            "Simple Random Sample: [93, 44, 48, 94, 69, 43, 80, 61, 32, 83]\n"
          ]
        }
      ]
    },
    {
      "cell_type": "code",
      "source": [
        "#2. Systematic Sampling\n",
        "import numpy as np\n",
        "\n",
        "# Define sample size\n",
        "sample_size = 10\n",
        "k = len(population) // sample_size  # Sampling interval\n",
        "\n",
        "# Select random starting point\n",
        "start = np.random.randint(0, k)\n",
        "\n",
        "# Generate systematic sample\n",
        "systematic_sample = population[start::k][:sample_size]\n",
        "\n",
        "print(\"Systematic Sample:\", systematic_sample)\n"
      ],
      "metadata": {
        "colab": {
          "base_uri": "https://localhost:8080/"
        },
        "id": "xWoNyR7r540r",
        "outputId": "ac1036bb-1947-4ec0-c5a0-1dbe73b11f88"
      },
      "execution_count": null,
      "outputs": [
        {
          "output_type": "stream",
          "name": "stdout",
          "text": [
            "Systematic Sample: [2, 12, 22, 32, 42, 52, 62, 72, 82, 92]\n"
          ]
        }
      ]
    },
    {
      "cell_type": "markdown",
      "source": [
        ".\n",
        "### **Comparison**\n",
        "| Sampling Type      | Methodology | Advantage | Limitation |\n",
        "|--------------------|------------|------------|------------|\n",
        "| **Random Sampling** | Completely random selection | Unbiased representation | Could miss patterns in the population |\n",
        "| **Systematic Sampling** | Picks every **k-th** element | Ensures even distribution | Might introduce bias if there’s a repeating pattern |\n"
      ],
      "metadata": {
        "id": "cQzUJvF7Ay2I"
      }
    },
    {
      "cell_type": "markdown",
      "source": [
        "**Q13. Calculate the mean, median, and mode of grouped data.**"
      ],
      "metadata": {
        "id": "gT9SrB6XBAHt"
      }
    },
    {
      "cell_type": "code",
      "source": [
        "import pandas as pd\n",
        "import numpy as np\n",
        "from scipy.stats import mode\n",
        "\n",
        "# Example grouped data: (Midpoint, Frequency)\n",
        "grouped_data = [\n",
        "    (5, 4),\n",
        "    (15, 10),\n",
        "    (25, 14),\n",
        "    (35, 8),\n",
        "    (45, 6)\n",
        "]\n",
        "\n",
        "# Convert to numpy arrays\n",
        "midpoints = np.array([x[0] for x in grouped_data])\n",
        "frequencies = np.array([x[1] for x in grouped_data])\n",
        "\n",
        "# Calculate Mean\n",
        "mean = np.sum(midpoints * frequencies) / np.sum(frequencies)\n",
        "\n",
        "# Calculate Median (using cumulative frequency)\n",
        "cumulative_frequencies = np.cumsum(frequencies)\n",
        "n = np.sum(frequencies) // 2  # Median position\n",
        "median_index = np.where(cumulative_frequencies >= n)[0][0]\n",
        "median = midpoints[median_index]\n",
        "\n",
        "# Calculate Mode (using highest frequency)\n",
        "mode_value = midpoints[np.argmax(frequencies)]\n",
        "\n",
        "print(f\"Mean: {mean}\")\n",
        "print(f\"Median: {median}\")\n",
        "print(f\"Mode: {mode_value}\")\n"
      ],
      "metadata": {
        "colab": {
          "base_uri": "https://localhost:8080/"
        },
        "id": "OLu7cDe3ApQ8",
        "outputId": "8ab167d3-dcae-432a-bf21-64714bad4258"
      },
      "execution_count": null,
      "outputs": [
        {
          "output_type": "stream",
          "name": "stdout",
          "text": [
            "Mean: 25.476190476190474\n",
            "Median: 25\n",
            "Mode: 25\n"
          ]
        }
      ]
    },
    {
      "cell_type": "markdown",
      "source": [
        "**Q14. Simulate data using Python and calculate its central tendency and dispersion.**"
      ],
      "metadata": {
        "id": "_IuA32qoBrFl"
      }
    },
    {
      "cell_type": "code",
      "source": [
        "import numpy as np\n",
        "import scipy.stats as stats\n",
        "\n",
        "# Simulating a dataset (random normal distribution)\n",
        "data = np.random.normal(loc=50, scale=10, size=100)  # Mean=50, StdDev=10, 100 samples\n",
        "\n",
        "# Central Tendency\n",
        "mean = np.mean(data)\n",
        "median = np.median(data)\n",
        "mode_value = stats.mode(data, keepdims=True)[0][0]\n",
        "\n",
        "# Dispersion Measures\n",
        "variance = np.var(data)\n",
        "std_dev = np.std(data)\n",
        "data_range = np.ptp(data)  # Range (max - min)\n",
        "\n",
        "# Display results\n",
        "print(f\"Mean: {mean}\")\n",
        "print(f\"Median: {median}\")\n",
        "print(f\"Mode: {mode_value}\")\n",
        "print(f\"Variance: {variance}\")\n",
        "print(f\"Standard Deviation: {std_dev}\")\n",
        "print(f\"Range: {data_range}\")\n"
      ],
      "metadata": {
        "colab": {
          "base_uri": "https://localhost:8080/"
        },
        "id": "7EDCsmz9BzN3",
        "outputId": "d96dd20b-79c2-4795-91e7-b38a8c03121a"
      },
      "execution_count": null,
      "outputs": [
        {
          "output_type": "stream",
          "name": "stdout",
          "text": [
            "Mean: 50.09780865861789\n",
            "Median: 48.97481575993247\n",
            "Mode: 18.304216667842788\n",
            "Variance: 100.75166614879288\n",
            "Standard Deviation: 10.03751294638233\n",
            "Range: 53.16533926068583\n"
          ]
        }
      ]
    },
    {
      "cell_type": "markdown",
      "source": [
        "**Q15. Use NumPy or pandas to summarize a dataset’s descriptive statistics.**"
      ],
      "metadata": {
        "id": "BTK2t1PYCDFd"
      }
    },
    {
      "cell_type": "code",
      "source": [
        "import numpy as np\n",
        "import pandas as pd\n",
        "\n",
        "# Generate a sample dataset\n",
        "data = np.random.normal(loc=50, scale=10, size=100)  # Normally distributed data\n",
        "\n",
        "# Create a pandas DataFrame\n",
        "df = pd.DataFrame(data, columns=[\"Values\"])\n",
        "\n",
        "# Compute descriptive statistics using pandas\n",
        "summary_stats = df.describe()\n",
        "\n",
        "print(\"Descriptive Statistics:\\n\", summary_stats)\n"
      ],
      "metadata": {
        "colab": {
          "base_uri": "https://localhost:8080/"
        },
        "id": "cl_Wz1NRBnVc",
        "outputId": "dfd77dd1-cc0a-45f5-c8bc-b0328e033f0e"
      },
      "execution_count": null,
      "outputs": [
        {
          "output_type": "stream",
          "name": "stdout",
          "text": [
            "Descriptive Statistics:\n",
            "            Values\n",
            "count  100.000000\n",
            "mean    49.771129\n",
            "std      9.769902\n",
            "min     28.128784\n",
            "25%     43.312141\n",
            "50%     50.091459\n",
            "75%     56.718493\n",
            "max     72.725947\n"
          ]
        }
      ]
    },
    {
      "cell_type": "markdown",
      "source": [
        "**Q16. Plot a boxplot to understand the spread and identify outliers.**"
      ],
      "metadata": {
        "id": "3_Jk516iCW6d"
      }
    },
    {
      "cell_type": "code",
      "source": [
        "import numpy as np\n",
        "import matplotlib.pyplot as plt\n",
        "\n",
        "# Generate a sample dataset\n",
        "data = np.random.normal(loc=50, scale=10, size=100)  # Normally distributed data\n",
        "\n",
        "# Create a boxplot\n",
        "plt.boxplot(data, vert=True, patch_artist=True, boxprops=dict(facecolor=\"lightblue\"))\n",
        "\n",
        "# Add labels and title\n",
        "plt.xlabel(\"Dataset\")\n",
        "plt.ylabel(\"Values\")\n",
        "plt.title(\"Boxplot to Analyze Spread & Outliers\")\n",
        "\n",
        "# Show the plot\n",
        "plt.show()\n"
      ],
      "metadata": {
        "colab": {
          "base_uri": "https://localhost:8080/",
          "height": 472
        },
        "id": "yNtvTUhXCnLt",
        "outputId": "13b950c2-f6ba-4ea3-9c95-9e77a8cfd24f"
      },
      "execution_count": null,
      "outputs": [
        {
          "output_type": "display_data",
          "data": {
            "text/plain": [
              "<Figure size 640x480 with 1 Axes>"
            ],
            "image/png": "[encoded data removed]"
          },
          "metadata": {}
        }
      ]
    },
    {
      "cell_type": "markdown",
      "source": [
        "**Q17.Calculate the interquartile range (IQR) of a dataset.**"
      ],
      "metadata": {
        "id": "_ThX0egcC0-2"
      }
    },
    {
      "cell_type": "code",
      "source": [
        "import numpy as np\n",
        "\n",
        "# Sample dataset\n",
        "data = [12, 15, 14, 10, 18, 20, 25, 30, 35, 40]\n",
        "\n",
        "# Calculate Q1 (25th percentile) and Q3 (75th percentile)\n",
        "Q1 = np.percentile(data, 25)\n",
        "Q3 = np.percentile(data, 75)\n",
        "\n",
        "# Compute IQR\n",
        "IQR = Q3 - Q1\n",
        "\n",
        "print(f\"Q1 (25th percentile): {Q1}\")\n",
        "print(f\"Q3 (75th percentile): {Q3}\")\n",
        "print(f\"Interquartile Range (IQR): {IQR}\")\n"
      ],
      "metadata": {
        "colab": {
          "base_uri": "https://localhost:8080/"
        },
        "id": "xIrp793cDH3-",
        "outputId": "65589e4e-a12b-4efe-c826-a0296eb94d3a"
      },
      "execution_count": null,
      "outputs": [
        {
          "output_type": "stream",
          "name": "stdout",
          "text": [
            "Q1 (25th percentile): 14.25\n",
            "Q3 (75th percentile): 28.75\n",
            "Interquartile Range (IQR): 14.5\n"
          ]
        }
      ]
    },
    {
      "cell_type": "markdown",
      "source": [
        "**Q18.Implement Z-score normalization and explain its significance.**"
      ],
      "metadata": {
        "id": "zfZAR1RdDR2t"
      }
    },
    {
      "cell_type": "code",
      "source": [
        "import numpy as np\n",
        "\n",
        "# Sample dataset\n",
        "data = np.array([12, 15, 20, 25, 30, 35, 40])\n",
        "\n",
        "# Calculate mean and standard deviation\n",
        "mean = np.mean(data)\n",
        "std_dev = np.std(data)\n",
        "\n",
        "# Compute Z-score normalized values\n",
        "z_scores = (data - mean) / std_dev\n",
        "\n",
        "print(\"Original Data:\", data)\n",
        "print(\"Z-score Normalized Data:\", z_scores)\n"
      ],
      "metadata": {
        "colab": {
          "base_uri": "https://localhost:8080/"
        },
        "id": "awCVDEohDcB_",
        "outputId": "7ba53fdf-a411-4903-dff2-18fb0a405fd4"
      },
      "execution_count": null,
      "outputs": [
        {
          "output_type": "stream",
          "name": "stdout",
          "text": [
            "Original Data: [12 15 20 25 30 35 40]\n",
            "Z-score Normalized Data: [-1.3857464  -1.07283592 -0.55131846 -0.029801    0.49171646  1.01323392\n",
            "  1.53475138]\n"
          ]
        }
      ]
    },
    {
      "cell_type": "markdown",
      "source": [
        "  ## Significance of Z-score Normalization\n",
        "  - **Removes scale dependency:-** Useful when comparing variables with different units (e.g., income vs. age).\n",
        "\n",
        "  - **Helps in machine learning models:-** Many algorithms perform better when data is standardized.\n",
        "\n",
        "  - **Identifies outliers:-** Z-scores far from zero indicate extreme values.\n",
        "\n",
        "  - **Improves numerical stability:-** Reduces biases caused by varying feature magnitudes."
      ],
      "metadata": {
        "id": "VDYZj-JxDxi2"
      }
    },
    {
      "cell_type": "markdown",
      "source": [
        "**Q19.Compare two datasets using their standard deviations.**"
      ],
      "metadata": {
        "id": "68psb4sAEYJt"
      }
    },
    {
      "cell_type": "code",
      "source": [
        "import numpy as np\n",
        "\n",
        "# Sample datasets\n",
        "data1 = [12, 15, 20, 25, 30, 35, 40]  # Dataset 1\n",
        "data2 = [10, 18, 30, 22, 35, 50, 65]  # Dataset 2 (more spread out)\n",
        "\n",
        "# Calculate standard deviation\n",
        "std_dev1 = np.std(data1)\n",
        "std_dev2 = np.std(data2)\n",
        "\n",
        "# Compare standard deviations\n",
        "print(f\"Standard Deviation of Dataset 1: {std_dev1}\")\n",
        "print(f\"Standard Deviation of Dataset 2: {std_dev2}\")\n",
        "\n",
        "if std_dev1 > std_dev2:\n",
        "    print(\"Dataset 1 has more variability.\")\n",
        "elif std_dev1 < std_dev2:\n",
        "    print(\"Dataset 2 has more variability.\")\n",
        "else:\n",
        "    print(\"Both datasets have similar dispersion.\")\n"
      ],
      "metadata": {
        "colab": {
          "base_uri": "https://localhost:8080/"
        },
        "id": "6r9T1vXIEhYV",
        "outputId": "1c946adb-49e8-4c81-a645-d5fb966e15fe"
      },
      "execution_count": null,
      "outputs": [
        {
          "output_type": "stream",
          "name": "stdout",
          "text": [
            "Standard Deviation of Dataset 1: 9.587406706035724\n",
            "Standard Deviation of Dataset 2: 17.73155839923006\n",
            "Dataset 2 has more variability.\n"
          ]
        }
      ]
    },
    {
      "cell_type": "markdown",
      "source": [
        "**Q20.Write a Python program to visualize covariance using a heatmap.**"
      ],
      "metadata": {
        "id": "vUZpR_gMEqU9"
      }
    },
    {
      "cell_type": "code",
      "source": [
        "import numpy as np\n",
        "import pandas as pd\n",
        "import seaborn as sns\n",
        "import matplotlib.pyplot as plt\n",
        "\n",
        "# Generate sample data\n",
        "np.random.seed(42)\n",
        "data = pd.DataFrame({\n",
        "    \"Variable A\": np.random.normal(50, 10, 100),\n",
        "    \"Variable B\": np.random.normal(30, 5, 100),\n",
        "    \"Variable C\": np.random.normal(70, 15, 100)\n",
        "})\n",
        "\n",
        "# Compute covariance matrix\n",
        "cov_matrix = data.cov()\n",
        "\n",
        "# Plot heatmap\n",
        "plt.figure(figsize=(6, 4))\n",
        "sns.heatmap(cov_matrix, annot=True, cmap=\"coolwarm\", fmt=\".2f\", linewidths=0.5)\n",
        "\n",
        "# Add title\n",
        "plt.title(\"Covariance Heatmap\")\n",
        "\n",
        "# Show plot\n",
        "plt.show()\n"
      ],
      "metadata": {
        "colab": {
          "base_uri": "https://localhost:8080/",
          "height": 391
        },
        "id": "0Yqcam7vEzEm",
        "outputId": "c744ab9f-29bd-44e5-ee01-8a06e272b89c"
      },
      "execution_count": null,
      "outputs": [
        {
          "output_type": "display_data",
          "data": {
            "text/plain": [
              "<Figure size 600x400 with 2 Axes>"
            ],
            "image/png": "[encoded data removed]"
          },
          "metadata": {}
        }
      ]
    },
    {
      "cell_type": "markdown",
      "source": [
        "**Q21. Use seaborn to create a correlation matrix for a dataset.**"
      ],
      "metadata": {
        "id": "OEFyxZOEE-JB"
      }
    },
    {
      "cell_type": "code",
      "source": [
        "import numpy as np\n",
        "import pandas as pd\n",
        "import seaborn as sns\n",
        "import matplotlib.pyplot as plt\n",
        "\n",
        "# Generate a sample dataset\n",
        "np.random.seed(42)\n",
        "data = pd.DataFrame({\n",
        "    \"Variable A\": np.random.normal(50, 10, 100),\n",
        "    \"Variable B\": np.random.normal(30, 5, 100),\n",
        "    \"Variable C\": np.random.normal(70, 15, 100)\n",
        "})\n",
        "\n",
        "# Compute correlation matrix\n",
        "corr_matrix = data.corr()\n",
        "\n",
        "# Plot correlation heatmap\n",
        "plt.figure(figsize=(6, 4))\n",
        "sns.heatmap(corr_matrix, annot=True, cmap=\"coolwarm\", fmt=\".2f\", linewidths=0.5)\n",
        "\n",
        "# Add title\n",
        "plt.title(\"Correlation Matrix Heatmap\")\n",
        "\n",
        "# Show plot\n",
        "plt.show()\n"
      ],
      "metadata": {
        "colab": {
          "base_uri": "https://localhost:8080/",
          "height": 391
        },
        "id": "RGa0OizyFH82",
        "outputId": "1b8c02c2-592f-476f-da27-7061f1080577"
      },
      "execution_count": null,
      "outputs": [
        {
          "output_type": "display_data",
          "data": {
            "text/plain": [
              "<Figure size 600x400 with 2 Axes>"
            ],
            "image/png": "[encoded data removed]"
          },
          "metadata": {}
        }
      ]
    },
    {
      "cell_type": "markdown",
      "source": [
        "**Q22. Generate a dataset and implement both variance and standard deviation computations.**"
      ],
      "metadata": {
        "id": "NvzKGq06FZBv"
      }
    },
    {
      "cell_type": "code",
      "source": [
        "import numpy as np\n",
        "\n",
        "# Generate a random dataset (100 values between 10 and 100)\n",
        "np.random.seed(42)  # For reproducibility\n",
        "data = np.random.randint(10, 100, size=100)\n",
        "\n",
        "# Compute variance\n",
        "variance = np.var(data)\n",
        "\n",
        "# Compute standard deviation\n",
        "std_dev = np.std(data)\n",
        "\n",
        "# Display results\n",
        "print(\"Generated Dataset:\", data)\n",
        "print(f\"Variance: {variance}\")\n",
        "print(f\"Standard Deviation: {std_dev}\")\n"
      ],
      "metadata": {
        "colab": {
          "base_uri": "https://localhost:8080/"
        },
        "id": "MHCwQpHaCVkN",
        "outputId": "adbbd37a-736b-44c3-eb7a-0f923aa4f450"
      },
      "execution_count": null,
      "outputs": [
        {
          "output_type": "stream",
          "name": "stdout",
          "text": [
            "Generated Dataset: [61 24 81 70 30 92 96 84 84 97 33 12 31 62 11 97 39 47 11 73 69 30 42 85\n",
            " 67 31 98 58 68 51 69 89 24 71 71 56 71 60 64 73 12 60 16 30 82 48 27 13\n",
            " 98 69 23 18 99 62 11 93 69 80 53 17 56 44 87 90 45 59 13 11 15 63 13 63\n",
            " 72 27 99 53 43 83 71 23 57 24 81 87 96 71 49 94 89 91 62 33 35 98 69 50\n",
            " 38 24 54 74]\n",
            "Variance: 736.8376\n",
            "Standard Deviation: 27.144752715764422\n"
          ]
        }
      ]
    },
    {
      "cell_type": "markdown",
      "source": [
        "**Q23.Visualize skewness and kurtosis using Python libraries like matplotlib or seaborn.**"
      ],
      "metadata": {
        "id": "uwkkXS0rFvsm"
      }
    },
    {
      "cell_type": "code",
      "source": [
        "import numpy as np\n",
        "import matplotlib.pyplot as plt\n",
        "import seaborn as sns\n",
        "import scipy.stats as stats\n",
        "\n",
        "# Generate a sample dataset (normal distribution with slight skew)\n",
        "np.random.seed(42)\n",
        "data = np.random.normal(loc=50, scale=10, size=1000)  # Normally distributed\n",
        "\n",
        "# Compute skewness & kurtosis\n",
        "skewness = stats.skew(data)\n",
        "kurtosis = stats.kurtosis(data)\n",
        "\n",
        "# Create histogram with density curve\n",
        "plt.figure(figsize=(8, 5))\n",
        "sns.histplot(data, bins=30, kde=True, color=\"skyblue\")\n",
        "\n",
        "# Add title and labels\n",
        "plt.title(f\"Distribution (Skewness: {skewness:.2f}, Kurtosis: {kurtosis:.2f})\")\n",
        "plt.xlabel(\"Values\")\n",
        "plt.ylabel(\"Frequency\")\n",
        "\n",
        "# Show the plot\n",
        "plt.show()\n"
      ],
      "metadata": {
        "colab": {
          "base_uri": "https://localhost:8080/",
          "height": 487
        },
        "id": "sSHJEl6PF82X",
        "outputId": "77afba49-eb72-40c6-b53b-df273261e150"
      },
      "execution_count": null,
      "outputs": [
        {
          "output_type": "display_data",
          "data": {
            "text/plain": [
              "<Figure size 800x500 with 1 Axes>"
            ],
            "image/png": "[encoded data removed]"
          },
          "metadata": {}
        }
      ]
    },
    {
      "cell_type": "markdown",
      "source": [
        "**Q24.I mplement the Pearson and Spearman correlation coefficients for a dataset.**"
      ],
      "metadata": {
        "id": "7sig2dDmGGzu"
      }
    },
    {
      "cell_type": "code",
      "source": [
        "import numpy as np\n",
        "import scipy.stats as stats\n",
        "\n",
        "# Sample dataset (two variables)\n",
        "data_x = np.array([12, 15, 20, 25, 30, 35, 40])\n",
        "data_y = np.array([10, 18, 25, 22, 28, 35, 50])\n",
        "\n",
        "# Compute Pearson correlation\n",
        "pearson_corr, _ = stats.pearsonr(data_x, data_y)\n",
        "\n",
        "# Compute Spearman correlation\n",
        "spearman_corr, _ = stats.spearmanr(data_x, data_y)\n",
        "\n",
        "# Display results\n",
        "print(f\"Pearson Correlation: {pearson_corr:.2f}\")\n",
        "print(f\"Spearman Correlation: {spearman_corr:.2f}\")\n"
      ],
      "metadata": {
        "colab": {
          "base_uri": "https://localhost:8080/"
        },
        "id": "fhQ1BwJ2FteG",
        "outputId": "ad996df8-3513-4014-ba15-4db9eab2f110"
      },
      "execution_count": null,
      "outputs": [
        {
          "output_type": "stream",
          "name": "stdout",
          "text": [
            "Pearson Correlation: 0.94\n",
            "Spearman Correlation: 0.96\n"
          ]
        }
      ]
    },
    {
      "cell_type": "code",
      "source": [],
      "metadata": {
        "id": "k1HnYTMKGcg-"
      },
      "execution_count": null,
      "outputs": []
    }
  ]
}